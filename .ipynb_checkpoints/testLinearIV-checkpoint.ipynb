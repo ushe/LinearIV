{
 "metadata": {
  "name": "",
  "signature": "sha256:84c3af37f722311d55e896a8ff8aa82afb612675c3465694088aef131e621628"
 },
 "nbformat": 3,
 "nbformat_minor": 0,
 "worksheets": []
}