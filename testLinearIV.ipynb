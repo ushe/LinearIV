{
 "metadata": {
  "language": "Julia",
  "name": "",
  "signature": "sha256:dd8b76056342fd0e06dd2f225850fb7d21b2c3950a3a7b4890aea187f09868a2"
 },
 "nbformat": 3,
 "nbformat_minor": 0,
 "worksheets": [
  {
   "cells": [
    {
     "cell_type": "code",
     "collapsed": false,
     "input": [
      "using LinearIV\n",
      "\n"
     ],
     "language": "python",
     "metadata": {},
     "outputs": [],
     "prompt_number": 84
    },
    {
     "cell_type": "code",
     "collapsed": false,
     "input": [
      "using RDatasets, DataFrames\n",
      "\n",
      "Carddf=readtable(\"data/Schooling.csv\")\n",
      "#typeof(Carddf)\n"
     ],
     "language": "python",
     "metadata": {},
     "outputs": [
      {
       "metadata": {},
       "output_type": "pyout",
       "prompt_number": 82,
       "text": [
        "DataFrame with 3010 rows, 29 columns\n",
        "Columns:\n",
        "\n",
        "              3010 non-null values    \n",
        "smsa66        3010 non-null values    \n",
        "smsa76        3010 non-null values    \n",
        "nearc2        3010 non-null values    \n",
        "nearc4        3010 non-null values    \n",
        "nearc4a       3010 non-null values    \n",
        "nearc4b       3010 non-null values    \n",
        "ed76          3010 non-null values    \n",
        "ed66          3010 non-null values    \n",
        "age76         3010 non-null values    \n",
        "daded         3010 non-null values    \n",
        "nodaded       3010 non-null values    \n",
        "momed         3010 non-null values    \n",
        "nomomed       3010 non-null values    \n",
        "momdad14      3010 non-null values    \n",
        "sinmom14      3010 non-null values    \n",
        "step14        3010 non-null values    \n",
        "south66       3010 non-null values    \n",
        "south76       3010 non-null values    \n",
        "lwage76       3010 non-null values    \n",
        "famed         3010 non-null values    \n",
        "black         3010 non-null values    \n",
        "wage76        3010 non-null values    \n",
        "enroll76      3010 non-null values    \n",
        "kww           2963 non-null values    \n",
        "iqscore       2061 non-null values    \n",
        "mar76         3003 non-null values    \n",
        "libcrd14      2997 non-null values    \n",
        "exp76         3010 non-null values    \n",
        "\n"
       ]
      }
     ],
     "prompt_number": 82
    },
    {
     "cell_type": "code",
     "collapsed": false,
     "input": [
      "df"
     ],
     "language": "python",
     "metadata": {},
     "outputs": []
    }
   ],
   "metadata": {}
  }
 ]
}